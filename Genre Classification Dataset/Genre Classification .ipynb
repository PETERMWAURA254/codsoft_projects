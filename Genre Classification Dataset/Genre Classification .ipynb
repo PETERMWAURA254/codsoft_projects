{
 "cells": [
  {
   "cell_type": "code",
   "execution_count": 1,
   "id": "6843f316-7e89-4d8f-8f41-ff049e1d12dc",
   "metadata": {
    "tags": []
   },
   "outputs": [],
   "source": [
    "#Importing necessary libraries \n",
    "import pandas as pd\n",
    "import numpy as np\n",
    "import seaborn as sns\n",
    "import matplotlib.pyplot as plt\n",
    "from sklearn.model_selection import train_test_split\n",
    "import re\n",
    "import nltk\n",
    "import string\n",
    "from nltk.corpus import stopwords\n",
    "from nltk.stem import LancasterStemmer\n",
    "from sklearn.feature_extraction.text import TfidfVectorizer\n",
    "from sklearn.naive_bayes import MultinomialNB\n",
    "from sklearn.metrics import accuracy_score, classification_report"
   ]
  },
  {
   "cell_type": "code",
   "execution_count": 2,
   "id": "1c4db0b0-e56f-4bfb-b9b5-b5a997fb2eb3",
   "metadata": {
    "tags": []
   },
   "outputs": [
    {
     "data": {
      "text/html": [
       "<div>\n",
       "<style scoped>\n",
       "    .dataframe tbody tr th:only-of-type {\n",
       "        vertical-align: middle;\n",
       "    }\n",
       "\n",
       "    .dataframe tbody tr th {\n",
       "        vertical-align: top;\n",
       "    }\n",
       "\n",
       "    .dataframe thead th {\n",
       "        text-align: right;\n",
       "    }\n",
       "</style>\n",
       "<table border=\"1\" class=\"dataframe\">\n",
       "  <thead>\n",
       "    <tr style=\"text-align: right;\">\n",
       "      <th></th>\n",
       "      <th>Movie Name</th>\n",
       "      <th>Genre</th>\n",
       "      <th>Description</th>\n",
       "    </tr>\n",
       "  </thead>\n",
       "  <tbody>\n",
       "    <tr>\n",
       "      <th>1</th>\n",
       "      <td>Oscar et la dame rose (2009)</td>\n",
       "      <td>drama</td>\n",
       "      <td>Listening in to a conversation between his do...</td>\n",
       "    </tr>\n",
       "    <tr>\n",
       "      <th>2</th>\n",
       "      <td>Cupid (1997)</td>\n",
       "      <td>thriller</td>\n",
       "      <td>A brother and sister with a past incestuous r...</td>\n",
       "    </tr>\n",
       "    <tr>\n",
       "      <th>3</th>\n",
       "      <td>Young, Wild and Wonderful (1980)</td>\n",
       "      <td>adult</td>\n",
       "      <td>As the bus empties the students for their fie...</td>\n",
       "    </tr>\n",
       "    <tr>\n",
       "      <th>4</th>\n",
       "      <td>The Secret Sin (1915)</td>\n",
       "      <td>drama</td>\n",
       "      <td>To help their unemployed father make ends mee...</td>\n",
       "    </tr>\n",
       "    <tr>\n",
       "      <th>5</th>\n",
       "      <td>The Unrecovered (2007)</td>\n",
       "      <td>drama</td>\n",
       "      <td>The film's title refers not only to the un-re...</td>\n",
       "    </tr>\n",
       "  </tbody>\n",
       "</table>\n",
       "</div>"
      ],
      "text/plain": [
       "                           Movie Name       Genre  \\\n",
       "1       Oscar et la dame rose (2009)       drama    \n",
       "2                       Cupid (1997)    thriller    \n",
       "3   Young, Wild and Wonderful (1980)       adult    \n",
       "4              The Secret Sin (1915)       drama    \n",
       "5             The Unrecovered (2007)       drama    \n",
       "\n",
       "                                         Description  \n",
       "1   Listening in to a conversation between his do...  \n",
       "2   A brother and sister with a past incestuous r...  \n",
       "3   As the bus empties the students for their fie...  \n",
       "4   To help their unemployed father make ends mee...  \n",
       "5   The film's title refers not only to the un-re...  "
      ]
     },
     "execution_count": 2,
     "metadata": {},
     "output_type": "execute_result"
    }
   ],
   "source": [
    "file_path = r'E:\\Codsoft\\Genre Classification Dataset\\train_data.txt'\n",
    "#DEFINE COLUMN NAMES FOR THE DATASETS\n",
    "columns = [ 'Movie Name' , 'Genre' , 'Description']\n",
    "# Load the file into a DataFrame\n",
    "mydata_train= pd.read_csv(file_path, delimiter=':::',engine='python',names=columns)\n",
    "mydata_train.head()"
   ]
  },
  {
   "cell_type": "code",
   "execution_count": 3,
   "id": "eaa099c0-4bb9-4d5f-9118-deafb02326cf",
   "metadata": {
    "tags": []
   },
   "outputs": [
    {
     "name": "stdout",
     "output_type": "stream",
     "text": [
      "<class 'pandas.core.frame.DataFrame'>\n",
      "Index: 54214 entries, 1 to 54214\n",
      "Data columns (total 3 columns):\n",
      " #   Column       Non-Null Count  Dtype \n",
      "---  ------       --------------  ----- \n",
      " 0   Movie Name   54214 non-null  object\n",
      " 1   Genre        54214 non-null  object\n",
      " 2   Description  54214 non-null  object\n",
      "dtypes: object(3)\n",
      "memory usage: 1.7+ MB\n"
     ]
    }
   ],
   "source": [
    "mydata_train.info()\n"
   ]
  },
  {
   "cell_type": "code",
   "execution_count": 4,
   "id": "9d0abd83-921f-4494-8fc8-4f6757950362",
   "metadata": {
    "tags": []
   },
   "outputs": [
    {
     "data": {
      "text/html": [
       "<div>\n",
       "<style scoped>\n",
       "    .dataframe tbody tr th:only-of-type {\n",
       "        vertical-align: middle;\n",
       "    }\n",
       "\n",
       "    .dataframe tbody tr th {\n",
       "        vertical-align: top;\n",
       "    }\n",
       "\n",
       "    .dataframe thead th {\n",
       "        text-align: right;\n",
       "    }\n",
       "</style>\n",
       "<table border=\"1\" class=\"dataframe\">\n",
       "  <thead>\n",
       "    <tr style=\"text-align: right;\">\n",
       "      <th></th>\n",
       "      <th>Movie Name</th>\n",
       "      <th>Genre</th>\n",
       "      <th>Description</th>\n",
       "    </tr>\n",
       "  </thead>\n",
       "  <tbody>\n",
       "    <tr>\n",
       "      <th>count</th>\n",
       "      <td>54214</td>\n",
       "      <td>54214</td>\n",
       "      <td>54214</td>\n",
       "    </tr>\n",
       "    <tr>\n",
       "      <th>unique</th>\n",
       "      <td>54214</td>\n",
       "      <td>27</td>\n",
       "      <td>54086</td>\n",
       "    </tr>\n",
       "    <tr>\n",
       "      <th>top</th>\n",
       "      <td>Oscar et la dame rose (2009)</td>\n",
       "      <td>drama</td>\n",
       "      <td>Grammy - music award of the American academy ...</td>\n",
       "    </tr>\n",
       "    <tr>\n",
       "      <th>freq</th>\n",
       "      <td>1</td>\n",
       "      <td>13613</td>\n",
       "      <td>12</td>\n",
       "    </tr>\n",
       "  </tbody>\n",
       "</table>\n",
       "</div>"
      ],
      "text/plain": [
       "                            Movie Name    Genre  \\\n",
       "count                            54214    54214   \n",
       "unique                           54214       27   \n",
       "top      Oscar et la dame rose (2009)    drama    \n",
       "freq                                 1    13613   \n",
       "\n",
       "                                              Description  \n",
       "count                                               54214  \n",
       "unique                                              54086  \n",
       "top      Grammy - music award of the American academy ...  \n",
       "freq                                                   12  "
      ]
     },
     "execution_count": 4,
     "metadata": {},
     "output_type": "execute_result"
    }
   ],
   "source": [
    "mydata_train.describe()"
   ]
  },
  {
   "cell_type": "code",
   "execution_count": 5,
   "id": "2ec2c788-4867-4340-8a71-2b7f169c1789",
   "metadata": {
    "tags": []
   },
   "outputs": [
    {
     "data": {
      "text/html": [
       "<div>\n",
       "<style scoped>\n",
       "    .dataframe tbody tr th:only-of-type {\n",
       "        vertical-align: middle;\n",
       "    }\n",
       "\n",
       "    .dataframe tbody tr th {\n",
       "        vertical-align: top;\n",
       "    }\n",
       "\n",
       "    .dataframe thead th {\n",
       "        text-align: right;\n",
       "    }\n",
       "</style>\n",
       "<table border=\"1\" class=\"dataframe\">\n",
       "  <thead>\n",
       "    <tr style=\"text-align: right;\">\n",
       "      <th></th>\n",
       "      <th>Movie Name</th>\n",
       "      <th>Genre</th>\n",
       "      <th>Description</th>\n",
       "    </tr>\n",
       "  </thead>\n",
       "  <tbody>\n",
       "    <tr>\n",
       "      <th>0</th>\n",
       "      <td>1</td>\n",
       "      <td>Edgar's Lunch (1998)</td>\n",
       "      <td>L.R. Brane loves his life - his car, his apar...</td>\n",
       "    </tr>\n",
       "    <tr>\n",
       "      <th>1</th>\n",
       "      <td>2</td>\n",
       "      <td>La guerra de papá (1977)</td>\n",
       "      <td>Spain, March 1964: Quico is a very naughty ch...</td>\n",
       "    </tr>\n",
       "    <tr>\n",
       "      <th>2</th>\n",
       "      <td>3</td>\n",
       "      <td>Off the Beaten Track (2010)</td>\n",
       "      <td>One year in the life of Albin and his family ...</td>\n",
       "    </tr>\n",
       "    <tr>\n",
       "      <th>3</th>\n",
       "      <td>4</td>\n",
       "      <td>Meu Amigo Hindu (2015)</td>\n",
       "      <td>His father has died, he hasn't spoken with hi...</td>\n",
       "    </tr>\n",
       "    <tr>\n",
       "      <th>4</th>\n",
       "      <td>5</td>\n",
       "      <td>Er nu zhai (1955)</td>\n",
       "      <td>Before he was known internationally as a mart...</td>\n",
       "    </tr>\n",
       "  </tbody>\n",
       "</table>\n",
       "</div>"
      ],
      "text/plain": [
       "   Movie Name                          Genre  \\\n",
       "0           1          Edgar's Lunch (1998)    \n",
       "1           2      La guerra de papá (1977)    \n",
       "2           3   Off the Beaten Track (2010)    \n",
       "3           4        Meu Amigo Hindu (2015)    \n",
       "4           5             Er nu zhai (1955)    \n",
       "\n",
       "                                         Description  \n",
       "0   L.R. Brane loves his life - his car, his apar...  \n",
       "1   Spain, March 1964: Quico is a very naughty ch...  \n",
       "2   One year in the life of Albin and his family ...  \n",
       "3   His father has died, he hasn't spoken with hi...  \n",
       "4   Before he was known internationally as a mart...  "
      ]
     },
     "execution_count": 5,
     "metadata": {},
     "output_type": "execute_result"
    }
   ],
   "source": [
    "file_path = r'E:\\Codsoft\\Genre Classification Dataset\\test_data.txt'\n",
    "#DEFINE COLUMN NAMES FOR THE DATASETS\n",
    "columns = [ 'Movie Name' , 'Genre' , 'Description']\n",
    "# Load the file into a DataFrame\n",
    "#DEFINE COLUMN NAMES FOR THE DATASETS\n",
    "mydata_test= pd.read_csv(file_path, delimiter=':::',engine='python',names=columns)\n",
    "mydata_test.head()"
   ]
  },
  {
   "cell_type": "code",
   "execution_count": 6,
   "id": "f357a254-3b08-4ae7-b318-e2a773c20921",
   "metadata": {
    "tags": []
   },
   "outputs": [
    {
     "name": "stdout",
     "output_type": "stream",
     "text": [
      "<class 'pandas.core.frame.DataFrame'>\n",
      "RangeIndex: 54200 entries, 0 to 54199\n",
      "Data columns (total 3 columns):\n",
      " #   Column       Non-Null Count  Dtype \n",
      "---  ------       --------------  ----- \n",
      " 0   Movie Name   54200 non-null  int64 \n",
      " 1   Genre        54200 non-null  object\n",
      " 2   Description  54200 non-null  object\n",
      "dtypes: int64(1), object(2)\n",
      "memory usage: 1.2+ MB\n"
     ]
    }
   ],
   "source": [
    "mydata_test.info()\n"
   ]
  },
  {
   "cell_type": "code",
   "execution_count": 7,
   "id": "fe760ef7-80a2-4636-b12d-5918024fa94b",
   "metadata": {
    "tags": []
   },
   "outputs": [
    {
     "data": {
      "text/html": [
       "<div>\n",
       "<style scoped>\n",
       "    .dataframe tbody tr th:only-of-type {\n",
       "        vertical-align: middle;\n",
       "    }\n",
       "\n",
       "    .dataframe tbody tr th {\n",
       "        vertical-align: top;\n",
       "    }\n",
       "\n",
       "    .dataframe thead th {\n",
       "        text-align: right;\n",
       "    }\n",
       "</style>\n",
       "<table border=\"1\" class=\"dataframe\">\n",
       "  <thead>\n",
       "    <tr style=\"text-align: right;\">\n",
       "      <th></th>\n",
       "      <th>Movie Name</th>\n",
       "    </tr>\n",
       "  </thead>\n",
       "  <tbody>\n",
       "    <tr>\n",
       "      <th>count</th>\n",
       "      <td>54200.000000</td>\n",
       "    </tr>\n",
       "    <tr>\n",
       "      <th>mean</th>\n",
       "      <td>27100.500000</td>\n",
       "    </tr>\n",
       "    <tr>\n",
       "      <th>std</th>\n",
       "      <td>15646.336632</td>\n",
       "    </tr>\n",
       "    <tr>\n",
       "      <th>min</th>\n",
       "      <td>1.000000</td>\n",
       "    </tr>\n",
       "    <tr>\n",
       "      <th>25%</th>\n",
       "      <td>13550.750000</td>\n",
       "    </tr>\n",
       "    <tr>\n",
       "      <th>50%</th>\n",
       "      <td>27100.500000</td>\n",
       "    </tr>\n",
       "    <tr>\n",
       "      <th>75%</th>\n",
       "      <td>40650.250000</td>\n",
       "    </tr>\n",
       "    <tr>\n",
       "      <th>max</th>\n",
       "      <td>54200.000000</td>\n",
       "    </tr>\n",
       "  </tbody>\n",
       "</table>\n",
       "</div>"
      ],
      "text/plain": [
       "         Movie Name\n",
       "count  54200.000000\n",
       "mean   27100.500000\n",
       "std    15646.336632\n",
       "min        1.000000\n",
       "25%    13550.750000\n",
       "50%    27100.500000\n",
       "75%    40650.250000\n",
       "max    54200.000000"
      ]
     },
     "execution_count": 7,
     "metadata": {},
     "output_type": "execute_result"
    }
   ],
   "source": [
    "mydata_test.describe()"
   ]
  },
  {
   "cell_type": "markdown",
   "id": "33aa428f-1f77-4f41-9fa5-5011563a7c9c",
   "metadata": {},
   "source": [
    "### Data Cleaning"
   ]
  },
  {
   "cell_type": "code",
   "execution_count": 9,
   "id": "34a273ae-12d1-48b1-af02-22320228188e",
   "metadata": {
    "tags": []
   },
   "outputs": [
    {
     "name": "stdout",
     "output_type": "stream",
     "text": [
      "TRAINING DUPLICATES: 0\n"
     ]
    }
   ],
   "source": [
    "# CHECK FOR DUPLICATE ROWS IN THE TRAINING DATASET\n",
    "print(\"TRAINING DUPLICATES:\", mydata_train.duplicated().sum())"
   ]
  },
  {
   "cell_type": "code",
   "execution_count": 10,
   "id": "a3405f4c-e30a-4e62-8f53-a994a4c2f34e",
   "metadata": {
    "tags": []
   },
   "outputs": [
    {
     "name": "stdout",
     "output_type": "stream",
     "text": [
      "TRAINING DUPLICATES: 0\n"
     ]
    }
   ],
   "source": [
    "print(\"TRAINING DUPLICATES:\", mydata_test.duplicated().sum())"
   ]
  },
  {
   "cell_type": "markdown",
   "id": "517e2515-f0da-47ee-b1ec-fe0004288503",
   "metadata": {},
   "source": [
    "### Data Visualization"
   ]
  },
  {
   "cell_type": "code",
   "execution_count": 12,
   "id": "0845c8dd-f401-4263-904e-58bea6ffd3d1",
   "metadata": {
    "tags": []
   },
   "outputs": [
    {
     "data": {
      "image/png": "[encoded data removed]",
      "text/plain": [
       "<Figure size 1000x600 with 1 Axes>"
      ]
     },
     "metadata": {},
     "output_type": "display_data"
    }
   ],
   "source": [
    "# PLOT THE DISTRIBUTION OF GENRES IN THE TRAINING DATASET\n",
    "plt.figure(figsize=(10,6))\n",
    "sns.countplot(x='Genre' , data=mydata_train , order=mydata_train['Genre'].value_counts().index ,palette='viridis')\n",
    "plt.title('Genre Distribution')\n",
    "plt.xlabel('Genre')\n",
    "plt.ylabel('Count')\n",
    "plt.xticks(rotation=90)\n",
    "plt.show()"
   ]
  },
  {
   "cell_type": "markdown",
   "id": "8b755871-fcbd-43f8-a6c1-d43479588ac1",
   "metadata": {},
   "source": [
    " #### SEPARATE FEATURES AND LABELS FOR TRAINING AND TEST DATASETS"
   ]
  },
  {
   "cell_type": "code",
   "execution_count": 14,
   "id": "a0f2a7a7-99af-4df2-b2ed-acd3e81023b6",
   "metadata": {
    "tags": []
   },
   "outputs": [
    {
     "name": "stdout",
     "output_type": "stream",
     "text": [
      "(54214,)\n",
      "(54214,)\n"
     ]
    }
   ],
   "source": [
    "# SEPARATE FEATURES AND LABELS FOR TRAINING AND TEST DATASETS\n",
    "x_train_data = mydata_train['Description']\n",
    "y_train_data = mydata_train['Genre']\n",
    "\n",
    "x_test_data = mydata_test['Description']\n",
    "y_test_data = mydata_test['Genre']\n",
    "\n",
    "print(x_train_data.shape)\n",
    "print(y_train_data.shape)"
   ]
  },
  {
   "cell_type": "markdown",
   "id": "b1b760de-69b3-4e33-9246-fb4d2ff48926",
   "metadata": {
    "tags": []
   },
   "source": [
    "### Data Splitting"
   ]
  },
  {
   "cell_type": "code",
   "execution_count": 16,
   "id": "5afa286f-8253-4929-9a71-e6b84fc958d8",
   "metadata": {
    "tags": []
   },
   "outputs": [],
   "source": [
    "# IMPORTING train_test_split FROM sklearn TO SPLIT THE DATA\n",
    "from sklearn.model_selection import train_test_split\n",
    "\n",
    "# SPLIT THE TRAINING DATA INTO TRAINING AND VALIDATION SETS\n",
    "X_train , X_val , Y_train , Y_val = train_test_split(x_train_data , y_train_data , test_size=0.2 , random_state=42)"
   ]
  },
  {
   "cell_type": "markdown",
   "id": "d10f5819-30d2-43e4-aee0-9bbe96289fe4",
   "metadata": {},
   "source": [
    "####  DISPLAY THE SHAPES OF THE FEATURE AND LABEL ARRAYS FOR THE TEST DATASET\n"
   ]
  },
  {
   "cell_type": "code",
   "execution_count": 18,
   "id": "30c36882-e1a3-4e30-ab66-24fc7cf0902f",
   "metadata": {
    "tags": []
   },
   "outputs": [
    {
     "name": "stdout",
     "output_type": "stream",
     "text": [
      "(54200,)\n",
      "(54200,)\n"
     ]
    }
   ],
   "source": [
    "print(x_test_data.shape)\n",
    "print(y_test_data.shape)"
   ]
  },
  {
   "cell_type": "markdown",
   "id": "97bc30b0-e1fe-457a-a830-e9bbce955605",
   "metadata": {},
   "source": [
    "#### DISPLAY THE SHAPES OF THE FEATURE AND LABEL ARRAYS FOR THE TRAINING DATASET\n"
   ]
  },
  {
   "cell_type": "code",
   "execution_count": 20,
   "id": "310b185e-a8f2-4b2f-bdb5-5f14c234a934",
   "metadata": {},
   "outputs": [
    {
     "name": "stdout",
     "output_type": "stream",
     "text": [
      "(54214,)\n",
      "(54214,)\n"
     ]
    }
   ],
   "source": [
    "print(x_train_data.shape)\n",
    "print(y_train_data.shape)"
   ]
  },
  {
   "cell_type": "markdown",
   "id": "9bd2aee5-3056-4b55-afe7-49af28911926",
   "metadata": {},
   "source": [
    "#### DISPLAY THE SHAPES OF THE TRAINING , VALIDATION AND TEST FEATURE SETS\n"
   ]
  },
  {
   "cell_type": "code",
   "execution_count": 22,
   "id": "26a6dab1-1660-41e3-ac12-15623c06f040",
   "metadata": {
    "tags": []
   },
   "outputs": [
    {
     "name": "stdout",
     "output_type": "stream",
     "text": [
      "(43371,)\n",
      "(10843,)\n",
      "(54200,)\n",
      "\n",
      "\n"
     ]
    }
   ],
   "source": [
    "print(X_train.shape)\n",
    "print(X_val.shape)\n",
    "print(x_test_data.shape)\n",
    "\n",
    "print('\\n')"
   ]
  },
  {
   "cell_type": "markdown",
   "id": "5e1702d5-c7ec-4519-b55c-f1c304de9c3d",
   "metadata": {
    "tags": []
   },
   "source": [
    "#### DISPLAY THE SHAPES OF THE TRAINING , VALIDATION AND TEST LABEL SETS\n"
   ]
  },
  {
   "cell_type": "code",
   "execution_count": 24,
   "id": "1ab02576-c3cc-42f5-96d4-cbaf9a37fb4b",
   "metadata": {
    "tags": []
   },
   "outputs": [
    {
     "name": "stdout",
     "output_type": "stream",
     "text": [
      "(43371,)\n",
      "(10843,)\n",
      "(54200,)\n"
     ]
    }
   ],
   "source": [
    "print(Y_train.shape)\n",
    "print(Y_val.shape)\n",
    "print(y_test_data.shape)"
   ]
  },
  {
   "cell_type": "markdown",
   "id": "ddc4d82f-960d-4724-a054-eb309dacb6a5",
   "metadata": {},
   "source": [
    "## Feature Extraction"
   ]
  },
  {
   "cell_type": "code",
   "execution_count": 26,
   "id": "fa7a99cb-47f5-400c-b865-618299a740c3",
   "metadata": {},
   "outputs": [],
   "source": [
    "# INITIALIZE TF-IDF VECTORIZER\n",
    "tfidf = TfidfVectorizer(stop_words ='english' , max_features=5000)\n",
    "\n",
    "# FIT AND TRANSFORM THE TRAINING FEATURES, AND TRANSFORM THE VALIDATION AND TEST FEATURES\n",
    "\n",
    "X_train_vec = tfidf.fit_transform(X_train)\n",
    "X_val_vec = tfidf.transform(X_val)\n",
    "X_test_vec = tfidf.transform(x_test_data)"
   ]
  },
  {
   "cell_type": "markdown",
   "id": "095d9796-c9a1-490e-9e65-99a19b1fba6f",
   "metadata": {},
   "source": [
    "### MODEL TRAINING (NAIVE BAYES)"
   ]
  },
  {
   "cell_type": "code",
   "execution_count": 28,
   "id": "9cde9472-902a-49bd-a76b-18ed30d3ea00",
   "metadata": {
    "tags": []
   },
   "outputs": [
    {
     "data": {
      "text/html": [
       "<style>#sk-container-id-1 {color: black;}#sk-container-id-1 pre{padding: 0;}#sk-container-id-1 div.sk-toggleable {background-color: white;}#sk-container-id-1 label.sk-toggleable__label {cursor: pointer;display: block;width: 100%;margin-bottom: 0;padding: 0.3em;box-sizing: border-box;text-align: center;}#sk-container-id-1 label.sk-toggleable__label-arrow:before {content: \"▸\";float: left;margin-right: 0.25em;color: #696969;}#sk-container-id-1 label.sk-toggleable__label-arrow:hover:before {color: black;}#sk-container-id-1 div.sk-estimator:hover label.sk-toggleable__label-arrow:before {color: black;}#sk-container-id-1 div.sk-toggleable__content {max-height: 0;max-width: 0;overflow: hidden;text-align: left;background-color: #f0f8ff;}#sk-container-id-1 div.sk-toggleable__content pre {margin: 0.2em;color: black;border-radius: 0.25em;background-color: #f0f8ff;}#sk-container-id-1 input.sk-toggleable__control:checked~div.sk-toggleable__content {max-height: 200px;max-width: 100%;overflow: auto;}#sk-container-id-1 input.sk-toggleable__control:checked~label.sk-toggleable__label-arrow:before {content: \"▾\";}#sk-container-id-1 div.sk-estimator input.sk-toggleable__control:checked~label.sk-toggleable__label {background-color: #d4ebff;}#sk-container-id-1 div.sk-label input.sk-toggleable__control:checked~label.sk-toggleable__label {background-color: #d4ebff;}#sk-container-id-1 input.sk-hidden--visually {border: 0;clip: rect(1px 1px 1px 1px);clip: rect(1px, 1px, 1px, 1px);height: 1px;margin: -1px;overflow: hidden;padding: 0;position: absolute;width: 1px;}#sk-container-id-1 div.sk-estimator {font-family: monospace;background-color: #f0f8ff;border: 1px dotted black;border-radius: 0.25em;box-sizing: border-box;margin-bottom: 0.5em;}#sk-container-id-1 div.sk-estimator:hover {background-color: #d4ebff;}#sk-container-id-1 div.sk-parallel-item::after {content: \"\";width: 100%;border-bottom: 1px solid gray;flex-grow: 1;}#sk-container-id-1 div.sk-label:hover label.sk-toggleable__label {background-color: #d4ebff;}#sk-container-id-1 div.sk-serial::before {content: \"\";position: absolute;border-left: 1px solid gray;box-sizing: border-box;top: 0;bottom: 0;left: 50%;z-index: 0;}#sk-container-id-1 div.sk-serial {display: flex;flex-direction: column;align-items: center;background-color: white;padding-right: 0.2em;padding-left: 0.2em;position: relative;}#sk-container-id-1 div.sk-item {position: relative;z-index: 1;}#sk-container-id-1 div.sk-parallel {display: flex;align-items: stretch;justify-content: center;background-color: white;position: relative;}#sk-container-id-1 div.sk-item::before, #sk-container-id-1 div.sk-parallel-item::before {content: \"\";position: absolute;border-left: 1px solid gray;box-sizing: border-box;top: 0;bottom: 0;left: 50%;z-index: -1;}#sk-container-id-1 div.sk-parallel-item {display: flex;flex-direction: column;z-index: 1;position: relative;background-color: white;}#sk-container-id-1 div.sk-parallel-item:first-child::after {align-self: flex-end;width: 50%;}#sk-container-id-1 div.sk-parallel-item:last-child::after {align-self: flex-start;width: 50%;}#sk-container-id-1 div.sk-parallel-item:only-child::after {width: 0;}#sk-container-id-1 div.sk-dashed-wrapped {border: 1px dashed gray;margin: 0 0.4em 0.5em 0.4em;box-sizing: border-box;padding-bottom: 0.4em;background-color: white;}#sk-container-id-1 div.sk-label label {font-family: monospace;font-weight: bold;display: inline-block;line-height: 1.2em;}#sk-container-id-1 div.sk-label-container {text-align: center;}#sk-container-id-1 div.sk-container {/* jupyter's `normalize.less` sets `[hidden] { display: none; }` but bootstrap.min.css set `[hidden] { display: none !important; }` so we also need the `!important` here to be able to override the default hidden behavior on the sphinx rendered scikit-learn.org. See: https://github.com/scikit-learn/scikit-learn/issues/21755 */display: inline-block !important;position: relative;}#sk-container-id-1 div.sk-text-repr-fallback {display: none;}</style><div id=\"sk-container-id-1\" class=\"sk-top-container\"><div class=\"sk-text-repr-fallback\"><pre>MultinomialNB()</pre><b>In a Jupyter environment, please rerun this cell to show the HTML representation or trust the notebook. <br />On GitHub, the HTML representation is unable to render, please try loading this page with nbviewer.org.</b></div><div class=\"sk-container\" hidden><div class=\"sk-item\"><div class=\"sk-estimator sk-toggleable\"><input class=\"sk-toggleable__control sk-hidden--visually\" id=\"sk-estimator-id-1\" type=\"checkbox\" checked><label for=\"sk-estimator-id-1\" class=\"sk-toggleable__label sk-toggleable__label-arrow\">MultinomialNB</label><div class=\"sk-toggleable__content\"><pre>MultinomialNB()</pre></div></div></div></div></div>"
      ],
      "text/plain": [
       "MultinomialNB()"
      ]
     },
     "execution_count": 28,
     "metadata": {},
     "output_type": "execute_result"
    }
   ],
   "source": [
    "# TRAIN THE MULTINOMIAL NAIVE BAYES CLASSIFIER\n",
    "model_nb= MultinomialNB()\n",
    "model_nb.fit(X_train_vec, Y_train)"
   ]
  },
  {
   "cell_type": "markdown",
   "id": "22e6a146-2c2b-489f-9407-a7fa3c354b6b",
   "metadata": {
    "tags": []
   },
   "source": [
    "### MODEL PREDICTIONS"
   ]
  },
  {
   "cell_type": "code",
   "execution_count": 30,
   "id": "23ab44cd-a4c9-44d0-bf7f-9436def8835d",
   "metadata": {
    "tags": []
   },
   "outputs": [],
   "source": [
    "# MAKE PREDICTIONS ON THE VALIDATION SET\n",
    "y_pred_val = model_nb.predict(X_val_vec)"
   ]
  },
  {
   "cell_type": "code",
   "execution_count": 31,
   "id": "189dfed8-0ed8-4728-9fed-4a074ae296f6",
   "metadata": {},
   "outputs": [
    {
     "name": "stdout",
     "output_type": "stream",
     "text": [
      "Validation Accuracy: 0.5231946878170248\n",
      "Validation Classification Report:\n",
      "               precision    recall  f1-score   support\n",
      "\n",
      "      action        0.58      0.08      0.14       263\n",
      "       adult        0.88      0.06      0.12       112\n",
      "   adventure        0.29      0.03      0.05       139\n",
      "   animation        0.00      0.00      0.00       104\n",
      "   biography        0.00      0.00      0.00        61\n",
      "      comedy        0.51      0.44      0.47      1443\n",
      "       crime        0.00      0.00      0.00       107\n",
      " documentary        0.58      0.88      0.70      2659\n",
      "       drama        0.46      0.83      0.59      2697\n",
      "      family        1.00      0.01      0.01       150\n",
      "     fantasy        0.00      0.00      0.00        74\n",
      "   game-show        1.00      0.15      0.26        40\n",
      "     history        0.00      0.00      0.00        45\n",
      "      horror        0.73      0.36      0.48       431\n",
      "       music        0.77      0.12      0.20       144\n",
      "     musical        0.00      0.00      0.00        50\n",
      "     mystery        0.00      0.00      0.00        56\n",
      "        news        0.00      0.00      0.00        34\n",
      "  reality-tv        0.80      0.02      0.04       192\n",
      "     romance        0.00      0.00      0.00       151\n",
      "      sci-fi        0.86      0.04      0.08       143\n",
      "       short        0.60      0.10      0.18      1045\n",
      "       sport        0.73      0.09      0.15        93\n",
      "   talk-show        0.00      0.00      0.00        81\n",
      "    thriller        0.23      0.01      0.02       309\n",
      "         war        0.00      0.00      0.00        20\n",
      "     western        0.98      0.59      0.74       200\n",
      "\n",
      "     accuracy                           0.52     10843\n",
      "    macro avg       0.41      0.14      0.16     10843\n",
      " weighted avg       0.52      0.52      0.44     10843\n",
      "\n"
     ]
    }
   ],
   "source": [
    "# EVALUATE THE MODEL ON THE VALIDATION SET\n",
    "accuracy_val = accuracy_score(Y_val, y_pred_val)\n",
    "print(\"Validation Accuracy:\", accuracy_val)\n",
    "print(\"Validation Classification Report:\")\n",
    "print(classification_report(Y_val, y_pred_val, zero_division=0))"
   ]
  },
  {
   "cell_type": "markdown",
   "id": "77dd697b-f6c6-453d-af82-40ca49934f49",
   "metadata": {
    "tags": []
   },
   "source": [
    "### MAKE PREDICTIONS ON THE TEST SET"
   ]
  },
  {
   "cell_type": "code",
   "execution_count": 33,
   "id": "bb8e2e11-c949-48f6-9124-85b8a05ae6bc",
   "metadata": {
    "tags": []
   },
   "outputs": [
    {
     "name": "stdout",
     "output_type": "stream",
     "text": [
      "\n",
      "Test Accuracy: 0.0\n",
      "Test Classification Report:\n"
     ]
    },
    {
     "name": "stderr",
     "output_type": "stream",
     "text": [
      "IOPub data rate exceeded.\n",
      "The Jupyter server will temporarily stop sending output\n",
      "to the client in order to avoid crashing it.\n",
      "To change this limit, set the config variable\n",
      "`--ServerApp.iopub_data_rate_limit`.\n",
      "\n",
      "Current values:\n",
      "ServerApp.iopub_data_rate_limit=1000000.0 (bytes/sec)\n",
      "ServerApp.rate_limit_window=3.0 (secs)\n",
      "\n"
     ]
    }
   ],
   "source": [
    "y_pred_test = model_nb.predict(X_test_vec)\n",
    "\n",
    "# EVALUATE THE MODEL ON THE TEST SET\n",
    "accuracy_test = accuracy_score(y_test_data, y_pred_test)\n",
    "print(\"\\nTest Accuracy:\", accuracy_test)\n",
    "print(\"Test Classification Report:\")\n",
    "print(classification_report(y_test_data, y_pred_test, zero_division=0))"
   ]
  },
  {
   "cell_type": "code",
   "execution_count": null,
   "id": "bcc147d1-cdf0-4a8a-905d-83c3df4f4816",
   "metadata": {},
   "outputs": [],
   "source": []
  },
  {
   "cell_type": "code",
   "execution_count": null,
   "id": "457869ca-1a2e-483e-bbb0-ca1090e8409f",
   "metadata": {},
   "outputs": [],
   "source": []
  }
 ],
 "metadata": {
  "kernelspec": {
   "display_name": "Python 3 (ipykernel)",
   "language": "python",
   "name": "python3"
  },
  "language_info": {
   "codemirror_mode": {
    "name": "ipython",
    "version": 3
   },
   "file_extension": ".py",
   "mimetype": "text/x-python",
   "name": "python",
   "nbconvert_exporter": "python",
   "pygments_lexer": "ipython3",
   "version": "3.11.5"
  }
 },
 "nbformat": 4,
 "nbformat_minor": 5
}
